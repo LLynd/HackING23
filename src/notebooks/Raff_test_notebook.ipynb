{
 "cells": [
  {
   "cell_type": "code",
   "execution_count": 1,
   "metadata": {},
   "outputs": [],
   "source": [
    "\n",
    "import numpy as np\n",
    "import tensorflow as tf\n",
    "from matplotlib import pyplot as plt\n",
    "import os\n",
    "from tqdm import tqdm\n",
    "import skimage"
   ]
  },
  {
   "cell_type": "code",
   "execution_count": 21,
   "metadata": {},
   "outputs": [
    {
     "name": "stderr",
     "output_type": "stream",
     "text": [
      "100%|██████████| 21/21 [04:26<00:00, 12.71s/it]"
     ]
    },
    {
     "name": "stdout",
     "output_type": "stream",
     "text": [
      "21\n",
      "(580, 224, 224, 3)\n",
      "(556, 224, 224, 3)\n",
      "(563, 224, 224, 3)\n",
      "(566, 224, 224, 3)\n",
      "(566, 224, 224, 3)\n",
      "(618, 224, 224, 3)\n",
      "(555, 224, 224, 3)\n",
      "(551, 224, 224, 3)\n",
      "(558, 224, 224, 3)\n",
      "(503, 224, 224, 3)\n",
      "(400, 224, 224, 3)\n",
      "(295, 224, 224, 3)\n",
      "(592, 224, 224, 3)\n",
      "(551, 224, 224, 3)\n",
      "(565, 224, 224, 3)\n",
      "(577, 224, 224, 3)\n",
      "(584, 224, 224, 3)\n",
      "(529, 224, 224, 3)\n",
      "(390, 224, 224, 3)\n",
      "(373, 224, 224, 3)\n",
      "(377, 224, 224, 3)\n",
      "Done\n"
     ]
    },
    {
     "name": "stderr",
     "output_type": "stream",
     "text": [
      "\n"
     ]
    }
   ],
   "source": [
    "# data loading\n",
    "data = []\n",
    "path = \"../data/datasets/train_set/\"\n",
    "classes = os.listdir(path)\n",
    "\n",
    "\n",
    "def decode_img(img):\n",
    "    # reading image from filepath\n",
    "    I = skimage.io.imread(img)\n",
    "\n",
    "    # check if it is in vertical orientatioon\n",
    "    if I.shape[0] < I.shape[1]:\n",
    "        I = I.T\n",
    "    # add channel dim\n",
    "    I = np.expand_dims(I, axis=-1)\n",
    "    I = np.repeat(I, 3, axis=-1)\n",
    "    # resize and return\n",
    "    return tf.image.resize(I, [224, 224])\n",
    "\n",
    "\n",
    "for class_name in tqdm(classes):\n",
    "    files = os.listdir(path + class_name)\n",
    "    class_images = np.zeros((len(files), 224, 224,3),dtype=np.int32)\n",
    "    for i, file in enumerate(files):\n",
    "        I = decode_img(path + class_name + \"/\" + file)\n",
    "        class_images[i] = I\n",
    "    data.append(class_images)\n",
    "\n",
    "print(\"Done\")"
   ]
  },
  {
   "cell_type": "code",
   "execution_count": 50,
   "metadata": {},
   "outputs": [
    {
     "name": "stdout",
     "output_type": "stream",
     "text": [
      "21\n",
      "(21,)\n",
      "580\n",
      "556\n",
      "563\n",
      "566\n",
      "566\n",
      "618\n",
      "555\n",
      "551\n",
      "558\n",
      "503\n",
      "400\n",
      "295\n",
      "592\n",
      "551\n",
      "565\n",
      "577\n",
      "584\n",
      "529\n",
      "390\n",
      "373\n",
      "377\n",
      "[580 556 563 566 566 618 555 551 558 503 400 295 592 551 565 577 584 529\n",
      " 390 373 377]\n"
     ]
    }
   ],
   "source": [
    "print(len(data))\n",
    "total_lengths = np.zeros(len(data),dtype=np.int32)\n",
    "print(total_lengths.shape)\n",
    "for i,x in enumerate(data):\n",
    "    #print(x.shape[0])\n",
    "    total_lengths[i] = x.shape[0]\n",
    "\n",
    "#print(total_lengths)\n"
   ]
  },
  {
   "cell_type": "code",
   "execution_count": 38,
   "metadata": {},
   "outputs": [],
   "source": [
    "# model\n",
    "from tensorflow.keras.applications import EfficientNetV2L\n",
    "from tensorflow.keras import layers, Model, Input\n",
    "width_shape = 224\n",
    "height_shape = 224\n",
    "\n",
    "image_input = Input(shape=(width_shape, height_shape, 3))\n",
    "model = EfficientNetV2L(input_tensor=image_input, include_top=False,weights='imagenet')\n",
    "\n",
    "\n"
   ]
  },
  {
   "cell_type": "code",
   "execution_count": 65,
   "metadata": {},
   "outputs": [
    {
     "name": "stdout",
     "output_type": "stream",
     "text": [
      "19/19 [==============================] - 15s 817ms/step\n"
     ]
    },
    {
     "ename": "OSError",
     "evalue": "[Errno 22] Invalid argument: 'database.mmap'",
     "output_type": "error",
     "traceback": [
      "\u001b[1;31m---------------------------------------------------------------------------\u001b[0m",
      "\u001b[1;31mOSError\u001b[0m                                   Traceback (most recent call last)",
      "Cell \u001b[1;32mIn[65], line 7\u001b[0m\n\u001b[0;32m      5\u001b[0m stop \u001b[39m=\u001b[39m total_lengths[i] \u001b[39m+\u001b[39m start\n\u001b[0;32m      6\u001b[0m arr_shape \u001b[39m=\u001b[39m preds\u001b[39m.\u001b[39mshape\n\u001b[1;32m----> 7\u001b[0m arr \u001b[39m=\u001b[39m np\u001b[39m.\u001b[39;49mmemmap(\u001b[39m\"\u001b[39;49m\u001b[39mdatabase.mmap\u001b[39;49m\u001b[39m\"\u001b[39;49m,\n\u001b[0;32m      8\u001b[0m                 dtype\u001b[39m=\u001b[39;49m\u001b[39m'\u001b[39;49m\u001b[39mfloat32\u001b[39;49m\u001b[39m'\u001b[39;49m,\n\u001b[0;32m      9\u001b[0m                 mode\u001b[39m=\u001b[39;49m\u001b[39m'\u001b[39;49m\u001b[39mw+\u001b[39;49m\u001b[39m'\u001b[39;49m,\n\u001b[0;32m     10\u001b[0m                 shape\u001b[39m=\u001b[39;49marr_shape)\n\u001b[0;32m     12\u001b[0m arr[start:stop] \u001b[39m=\u001b[39m preds\n\u001b[0;32m     13\u001b[0m start \u001b[39m=\u001b[39m stop\n",
      "File \u001b[1;32mc:\\Users\\kaczm\\.conda\\envs\\3drdnn\\lib\\site-packages\\numpy\\core\\memmap.py:228\u001b[0m, in \u001b[0;36mmemmap.__new__\u001b[1;34m(subtype, filename, dtype, mode, offset, shape, order)\u001b[0m\n\u001b[0;32m    226\u001b[0m     f_ctx \u001b[39m=\u001b[39m nullcontext(filename)\n\u001b[0;32m    227\u001b[0m \u001b[39melse\u001b[39;00m:\n\u001b[1;32m--> 228\u001b[0m     f_ctx \u001b[39m=\u001b[39m \u001b[39mopen\u001b[39;49m(os_fspath(filename), (\u001b[39m'\u001b[39;49m\u001b[39mr\u001b[39;49m\u001b[39m'\u001b[39;49m \u001b[39mif\u001b[39;49;00m mode \u001b[39m==\u001b[39;49m \u001b[39m'\u001b[39;49m\u001b[39mc\u001b[39;49m\u001b[39m'\u001b[39;49m \u001b[39melse\u001b[39;49;00m mode)\u001b[39m+\u001b[39;49m\u001b[39m'\u001b[39;49m\u001b[39mb\u001b[39;49m\u001b[39m'\u001b[39;49m)\n\u001b[0;32m    230\u001b[0m \u001b[39mwith\u001b[39;00m f_ctx \u001b[39mas\u001b[39;00m fid:\n\u001b[0;32m    231\u001b[0m     fid\u001b[39m.\u001b[39mseek(\u001b[39m0\u001b[39m, \u001b[39m2\u001b[39m)\n",
      "\u001b[1;31mOSError\u001b[0m: [Errno 22] Invalid argument: 'database.mmap'"
     ]
    }
   ],
   "source": [
    "start = 0\n",
    "for i in range(len(data[0:2])):\n",
    "    preds = model.predict(data[i])\n",
    "    preds = preds.reshape(total_lengths[i],preds.shape[1]*preds.shape[2]*preds.shape[3])\n",
    "    stop = total_lengths[i] + start\n",
    "    arr_shape = preds.shape\n",
    "    arr = np.memmap(\"database.mmap\",\n",
    "                    dtype='float32',\n",
    "                    mode='w+',\n",
    "                    shape=arr_shape)\n",
    "\n",
    "    arr[start:stop] = preds\n",
    "    start = stop\n",
    "    arr.flush(); del arr\n",
    "    \n",
    "\n",
    "    "
   ]
  },
  {
   "cell_type": "code",
   "execution_count": null,
   "metadata": {},
   "outputs": [],
   "source": [
    "def load_memmap_data(path, shape,\n",
    "                     append_extra_length=None,\n",
    "                     shape_only=False,\n",
    "                     display=True):\n",
    "    \"\"\"\n",
    "    Load data and datashape from the file path.\n",
    "\n",
    "    • Get shape from [source_dir/fname_shape.npy}.\n",
    "    • Load memmap data from [source_dir/fname.mm].\n",
    "\n",
    "    Parameters\n",
    "    ----------\n",
    "    source_dir : (str)\n",
    "    fname : (str)\n",
    "        File name except extension.\n",
    "    append_empty_length : None or (int)\n",
    "        Length to appened empty vector when loading memmap. If activate, the\n",
    "        file will be opened as 'r+' mode.\n",
    "    shape_only : (bool), optional\n",
    "        Return only shape. The default is False.\n",
    "    display : (bool), optional\n",
    "        The default is True.\n",
    "\n",
    "    Returns\n",
    "    -------\n",
    "    (data, data_shape)\n",
    "\n",
    "    \"\"\"\n",
    "    path_data = path\n",
    "    \n",
    "    data = np.memmap(path_data, dtype='float32', mode='r',\n",
    "                         shape=(shape[0], shape[1]))\n",
    "    if display:\n",
    "        print(f'Load {shape[0]:,} items from \\033[32m{path_data}\\033[0m.')\n",
    "    return data"
   ]
  },
  {
   "cell_type": "code",
   "execution_count": null,
   "metadata": {},
   "outputs": [
    {
     "ename": "TypeError",
     "evalue": "only size-1 arrays can be converted to Python scalars",
     "output_type": "error",
     "traceback": [
      "\u001b[1;31m---------------------------------------------------------------------------\u001b[0m",
      "\u001b[1;31mTypeError\u001b[0m                                 Traceback (most recent call last)",
      "Cell \u001b[1;32mIn[62], line 1\u001b[0m\n\u001b[1;32m----> 1\u001b[0m emb \u001b[39m=\u001b[39m load_memmap_data(\u001b[39m\"\u001b[39;49m\u001b[39mdatabase.mmap\u001b[39;49m\u001b[39m\"\u001b[39;49m,(total_lengths,\u001b[39m62720\u001b[39;49m))\n",
      "Cell \u001b[1;32mIn[61], line 31\u001b[0m, in \u001b[0;36mload_memmap_data\u001b[1;34m(path, shape, append_extra_length, shape_only, display)\u001b[0m\n\u001b[0;32m      5\u001b[0m \u001b[39m\u001b[39m\u001b[39m\"\"\"\u001b[39;00m\n\u001b[0;32m      6\u001b[0m \u001b[39mLoad data and datashape from the file path.\u001b[39;00m\n\u001b[0;32m      7\u001b[0m \n\u001b[1;32m   (...)\u001b[0m\n\u001b[0;32m     27\u001b[0m \n\u001b[0;32m     28\u001b[0m \u001b[39m\"\"\"\u001b[39;00m\n\u001b[0;32m     29\u001b[0m path_data \u001b[39m=\u001b[39m path\n\u001b[1;32m---> 31\u001b[0m data \u001b[39m=\u001b[39m np\u001b[39m.\u001b[39;49mmemmap(path_data, dtype\u001b[39m=\u001b[39;49m\u001b[39m'\u001b[39;49m\u001b[39mfloat32\u001b[39;49m\u001b[39m'\u001b[39;49m, mode\u001b[39m=\u001b[39;49m\u001b[39m'\u001b[39;49m\u001b[39mr\u001b[39;49m\u001b[39m'\u001b[39;49m,\n\u001b[0;32m     32\u001b[0m                      shape\u001b[39m=\u001b[39;49m(shape[\u001b[39m0\u001b[39;49m], shape[\u001b[39m1\u001b[39;49m]))\n\u001b[0;32m     33\u001b[0m \u001b[39mif\u001b[39;00m display:\n\u001b[0;32m     34\u001b[0m     \u001b[39mprint\u001b[39m(\u001b[39mf\u001b[39m\u001b[39m'\u001b[39m\u001b[39mLoad \u001b[39m\u001b[39m{\u001b[39;00mshape[\u001b[39m0\u001b[39m]\u001b[39m:\u001b[39;00m\u001b[39m,\u001b[39m\u001b[39m}\u001b[39;00m\u001b[39m items from \u001b[39m\u001b[39m\\033\u001b[39;00m\u001b[39m[32m\u001b[39m\u001b[39m{\u001b[39;00mpath_data\u001b[39m}\u001b[39;00m\u001b[39m\\033\u001b[39;00m\u001b[39m[0m.\u001b[39m\u001b[39m'\u001b[39m)\n",
      "File \u001b[1;32mc:\\Users\\kaczm\\.conda\\envs\\3drdnn\\lib\\site-packages\\numpy\\core\\memmap.py:250\u001b[0m, in \u001b[0;36mmemmap.__new__\u001b[1;34m(subtype, filename, dtype, mode, offset, shape, order)\u001b[0m\n\u001b[0;32m    247\u001b[0m     \u001b[39mfor\u001b[39;00m k \u001b[39min\u001b[39;00m shape:\n\u001b[0;32m    248\u001b[0m         size \u001b[39m*\u001b[39m\u001b[39m=\u001b[39m k\n\u001b[1;32m--> 250\u001b[0m \u001b[39mbytes\u001b[39m \u001b[39m=\u001b[39m \u001b[39mint\u001b[39;49m(offset \u001b[39m+\u001b[39;49m size\u001b[39m*\u001b[39;49m_dbytes)\n\u001b[0;32m    252\u001b[0m \u001b[39mif\u001b[39;00m mode \u001b[39min\u001b[39;00m (\u001b[39m'\u001b[39m\u001b[39mw+\u001b[39m\u001b[39m'\u001b[39m, \u001b[39m'\u001b[39m\u001b[39mr+\u001b[39m\u001b[39m'\u001b[39m) \u001b[39mand\u001b[39;00m flen \u001b[39m<\u001b[39m \u001b[39mbytes\u001b[39m:\n\u001b[0;32m    253\u001b[0m     fid\u001b[39m.\u001b[39mseek(\u001b[39mbytes\u001b[39m \u001b[39m-\u001b[39m \u001b[39m1\u001b[39m, \u001b[39m0\u001b[39m)\n",
      "\u001b[1;31mTypeError\u001b[0m: only size-1 arrays can be converted to Python scalars"
     ]
    }
   ],
   "source": [
    "emb = load_memmap_data(\"database.mmap\",(total_lengths,62720))"
   ]
  },
  {
   "cell_type": "code",
   "execution_count": null,
   "metadata": {},
   "outputs": [],
   "source": []
  }
 ],
 "metadata": {
  "kernelspec": {
   "display_name": "3drdnn",
   "language": "python",
   "name": "python3"
  },
  "language_info": {
   "codemirror_mode": {
    "name": "ipython",
    "version": 3
   },
   "file_extension": ".py",
   "mimetype": "text/x-python",
   "name": "python",
   "nbconvert_exporter": "python",
   "pygments_lexer": "ipython3",
   "version": "3.10.9"
  },
  "orig_nbformat": 4
 },
 "nbformat": 4,
 "nbformat_minor": 2
}

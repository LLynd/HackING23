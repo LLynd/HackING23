{
 "cells": [
  {
   "cell_type": "code",
   "execution_count": 3,
   "id": "6e33a02f-a78b-43c5-b853-c1bd580a79dd",
   "metadata": {
    "tags": []
   },
   "outputs": [],
   "source": [
    "import tensorflow as tf\n",
    "from src.generator import DataGen\n",
    "import numpy as np"
   ]
  },
  {
   "cell_type": "code",
   "execution_count": 4,
   "id": "f2a7fc0d-8f5a-4ca3-93c5-1e29a56fc485",
   "metadata": {
    "tags": []
   },
   "outputs": [
    {
     "name": "stdout",
     "output_type": "stream",
     "text": [
      "initialising train generator...\n",
      "Generator fully initialised, 10849 samples available\n"
     ]
    }
   ],
   "source": [
    "dg = DataGen(input_shape=(224,224,3),data_path=\"src\\data\",batch_size=1)\n"
   ]
  },
  {
   "cell_type": "code",
   "execution_count": 23,
   "id": "ec752ba9-f30d-488d-8dc2-8c87093f1203",
   "metadata": {
    "tags": []
   },
   "outputs": [],
   "source": [
    "\n",
    "emb = np.load(\"src/data/datasets/emb_ind/hackING23/embeddings.npy\")\n",
    "idx = np.load(\"src/data/datasets/emb_ind/hackING23/indices.npy\")[:-1] #todo to be change\n",
    "class_idxs = np.load(\"src/notebooks/class_idx.npy\") \n"
   ]
  },
  {
   "cell_type": "code",
   "execution_count": 24,
   "id": "8b92ab5a",
   "metadata": {},
   "outputs": [
    {
     "name": "stdout",
     "output_type": "stream",
     "text": [
      "(10848, 768)\n",
      "(10848,)\n",
      "1827\n"
     ]
    },
    {
     "data": {
      "text/html": [
       "<div>\n",
       "<style scoped>\n",
       "    .dataframe tbody tr th:only-of-type {\n",
       "        vertical-align: middle;\n",
       "    }\n",
       "\n",
       "    .dataframe tbody tr th {\n",
       "        vertical-align: top;\n",
       "    }\n",
       "\n",
       "    .dataframe thead th {\n",
       "        text-align: right;\n",
       "    }\n",
       "</style>\n",
       "<table border=\"1\" class=\"dataframe\">\n",
       "  <thead>\n",
       "    <tr style=\"text-align: right;\">\n",
       "      <th></th>\n",
       "      <th>fname</th>\n",
       "      <th>label</th>\n",
       "    </tr>\n",
       "  </thead>\n",
       "  <tbody>\n",
       "    <tr>\n",
       "      <th>0</th>\n",
       "      <td>00133f89-017d-44f5-a549-e11cf5b5221a.tiff</td>\n",
       "      <td>advertisement</td>\n",
       "    </tr>\n",
       "    <tr>\n",
       "      <th>1</th>\n",
       "      <td>00a3e900-6616-46fe-a528-a5ac51952562.tiff</td>\n",
       "      <td>advertisement</td>\n",
       "    </tr>\n",
       "    <tr>\n",
       "      <th>2</th>\n",
       "      <td>0116aef3-5834-4a14-8dc0-e7eb3d79f5de.tiff</td>\n",
       "      <td>advertisement</td>\n",
       "    </tr>\n",
       "    <tr>\n",
       "      <th>3</th>\n",
       "      <td>024b107d-cd7f-4f81-a28c-50a9df08d586.tiff</td>\n",
       "      <td>advertisement</td>\n",
       "    </tr>\n",
       "    <tr>\n",
       "      <th>4</th>\n",
       "      <td>0296a9e1-5bec-456f-9e9c-fc8849203056.tiff</td>\n",
       "      <td>advertisement</td>\n",
       "    </tr>\n",
       "  </tbody>\n",
       "</table>\n",
       "</div>"
      ],
      "text/plain": [
       "                                       fname          label\n",
       "0  00133f89-017d-44f5-a549-e11cf5b5221a.tiff  advertisement\n",
       "1  00a3e900-6616-46fe-a528-a5ac51952562.tiff  advertisement\n",
       "2  0116aef3-5834-4a14-8dc0-e7eb3d79f5de.tiff  advertisement\n",
       "3  024b107d-cd7f-4f81-a28c-50a9df08d586.tiff  advertisement\n",
       "4  0296a9e1-5bec-456f-9e9c-fc8849203056.tiff  advertisement"
      ]
     },
     "execution_count": 24,
     "metadata": {},
     "output_type": "execute_result"
    }
   ],
   "source": [
    "print(emb.shape)\n",
    "print(idx.shape)\n",
    "print(idx[0])\n",
    "label = dg._make_index()\n",
    "label[0:5]\n",
    "#print(class_idxs)\n"
   ]
  },
  {
   "cell_type": "code",
   "execution_count": 19,
   "id": "6dd09bf1",
   "metadata": {},
   "outputs": [],
   "source": [
    "def unison_shuffled_copies(a, b):\n",
    "    p = np.random.permutation(len(a))\n",
    "    return a[p], b[p]"
   ]
  },
  {
   "cell_type": "code",
   "execution_count": 20,
   "id": "9f5c37fc",
   "metadata": {},
   "outputs": [],
   "source": [
    "emb_suffled, idx_suffled = unison_shuffled_copies(emb,idx)"
   ]
  },
  {
   "cell_type": "code",
   "execution_count": 21,
   "id": "1828d68c",
   "metadata": {},
   "outputs": [
    {
     "data": {
      "text/plain": [
       "array([ 8713,  4469,  4105,  4510,  4910,  4524,  2350,  7321,  9512,\n",
       "       10162])"
      ]
     },
     "execution_count": 21,
     "metadata": {},
     "output_type": "execute_result"
    }
   ],
   "source": [
    "idx_suffled[0:10]"
   ]
  },
  {
   "cell_type": "code",
   "execution_count": null,
   "id": "7dc45a1e",
   "metadata": {},
   "outputs": [],
   "source": []
  }
 ],
 "metadata": {
  "kernelspec": {
   "display_name": "Python 3 (ipykernel)",
   "language": "python",
   "name": "python3"
  },
  "language_info": {
   "codemirror_mode": {
    "name": "ipython",
    "version": 3
   },
   "file_extension": ".py",
   "mimetype": "text/x-python",
   "name": "python",
   "nbconvert_exporter": "python",
   "pygments_lexer": "ipython3",
   "version": "3.10.0"
  }
 },
 "nbformat": 4,
 "nbformat_minor": 5
}

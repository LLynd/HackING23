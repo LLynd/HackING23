{
 "cells": [
  {
   "cell_type": "code",
   "execution_count": 1,
   "id": "6e33a02f-a78b-43c5-b853-c1bd580a79dd",
   "metadata": {
    "tags": []
   },
   "outputs": [],
   "source": [
    "import tensorflow as tf\n",
    "from src.generator import DataGen\n",
    "import numpy as np\n",
    "import faiss\n",
    "from src.label2metric import ind2label\n",
    "import json"
   ]
  },
  {
   "cell_type": "code",
   "execution_count": 2,
   "id": "f2a7fc0d-8f5a-4ca3-93c5-1e29a56fc485",
   "metadata": {
    "tags": []
   },
   "outputs": [
    {
     "name": "stdout",
     "output_type": "stream",
     "text": [
      "initialising train generator...\n",
      "Generator fully initialised, 10850 samples available\n"
     ]
    }
   ],
   "source": [
    "dg = DataGen(input_shape=(224,224,3),data_path=\"src\\data\",batch_size=1)\n"
   ]
  },
  {
   "cell_type": "code",
   "execution_count": 3,
   "id": "ec752ba9-f30d-488d-8dc2-8c87093f1203",
   "metadata": {
    "tags": []
   },
   "outputs": [],
   "source": [
    "\n",
    "emb = np.load(\"src/data/datasets/emb_ind/hackING23/embeddings.npy\")\n",
    "idx = np.load(\"src/data/datasets/emb_ind/hackING23/indices.npy\")[:-1] #todo to be change\n",
    "class_idxs = np.load(\"src/notebooks/class_idx.npy\") \n"
   ]
  },
  {
   "cell_type": "code",
   "execution_count": 4,
   "id": "8b92ab5a",
   "metadata": {},
   "outputs": [
    {
     "name": "stdout",
     "output_type": "stream",
     "text": [
      "(10848, 768)\n",
      "(10848,)\n",
      "0\n",
      "1\n"
     ]
    },
    {
     "data": {
      "text/html": [
       "<div>\n",
       "<style scoped>\n",
       "    .dataframe tbody tr th:only-of-type {\n",
       "        vertical-align: middle;\n",
       "    }\n",
       "\n",
       "    .dataframe tbody tr th {\n",
       "        vertical-align: top;\n",
       "    }\n",
       "\n",
       "    .dataframe thead th {\n",
       "        text-align: right;\n",
       "    }\n",
       "</style>\n",
       "<table border=\"1\" class=\"dataframe\">\n",
       "  <thead>\n",
       "    <tr style=\"text-align: right;\">\n",
       "      <th></th>\n",
       "      <th>fname</th>\n",
       "      <th>label</th>\n",
       "    </tr>\n",
       "  </thead>\n",
       "  <tbody>\n",
       "    <tr>\n",
       "      <th>0</th>\n",
       "      <td>00133f89-017d-44f5-a549-e11cf5b5221a.tiff</td>\n",
       "      <td>advertisement</td>\n",
       "    </tr>\n",
       "    <tr>\n",
       "      <th>1</th>\n",
       "      <td>00a3e900-6616-46fe-a528-a5ac51952562.tiff</td>\n",
       "      <td>advertisement</td>\n",
       "    </tr>\n",
       "    <tr>\n",
       "      <th>2</th>\n",
       "      <td>0116aef3-5834-4a14-8dc0-e7eb3d79f5de.tiff</td>\n",
       "      <td>advertisement</td>\n",
       "    </tr>\n",
       "    <tr>\n",
       "      <th>3</th>\n",
       "      <td>024b107d-cd7f-4f81-a28c-50a9df08d586.tiff</td>\n",
       "      <td>advertisement</td>\n",
       "    </tr>\n",
       "    <tr>\n",
       "      <th>4</th>\n",
       "      <td>0296a9e1-5bec-456f-9e9c-fc8849203056.tiff</td>\n",
       "      <td>advertisement</td>\n",
       "    </tr>\n",
       "  </tbody>\n",
       "</table>\n",
       "</div>"
      ],
      "text/plain": [
       "                                       fname          label\n",
       "0  00133f89-017d-44f5-a549-e11cf5b5221a.tiff  advertisement\n",
       "1  00a3e900-6616-46fe-a528-a5ac51952562.tiff  advertisement\n",
       "2  0116aef3-5834-4a14-8dc0-e7eb3d79f5de.tiff  advertisement\n",
       "3  024b107d-cd7f-4f81-a28c-50a9df08d586.tiff  advertisement\n",
       "4  0296a9e1-5bec-456f-9e9c-fc8849203056.tiff  advertisement"
      ]
     },
     "execution_count": 4,
     "metadata": {},
     "output_type": "execute_result"
    }
   ],
   "source": [
    "print(emb.shape)\n",
    "print(idx.shape)\n",
    "print(idx[0])\n",
    "print(idx[1])\n",
    "labels = dg._make_index()\n",
    "labels[0:5]\n",
    "#print(class_idxs)\n"
   ]
  },
  {
   "cell_type": "code",
   "execution_count": 5,
   "id": "6dd09bf1",
   "metadata": {},
   "outputs": [],
   "source": [
    "def unison_shuffled_copies(a, b, c,d):\n",
    "    p = np.random.permutation(len(a))\n",
    "    return a[p], b[p], c[p],d[p]"
   ]
  },
  {
   "cell_type": "code",
   "execution_count": 6,
   "id": "286a969b",
   "metadata": {},
   "outputs": [
    {
     "name": "stdout",
     "output_type": "stream",
     "text": [
      "['advertisement' 'budget' 'email' 'file_folder' 'form' 'handwritten'\n",
      " 'invoice' 'letter' 'memo' 'news_article' 'pit37_v1'\n",
      " 'pozwolenie_uzytkowanie_obiektu_budowlanego' 'presentation'\n",
      " 'questionnaire' 'resume' 'scientific_publication' 'scientific_report'\n",
      " 'specification' 'umowa_na_odleglosc_odstapienie' 'umowa_o_dzielo'\n",
      " 'umowa_sprzedazy_samochodu']\n"
     ]
    }
   ],
   "source": [
    "from sklearn import preprocessing\n",
    "\n",
    "le = preprocessing.LabelEncoder()\n",
    "le.fit(labels.label)\n",
    "print(le.classes_)\n",
    "labels_dupa = le.transform(labels.label)\n",
    "labels[\"label_id\"] = labels_dupa"
   ]
  },
  {
   "cell_type": "code",
   "execution_count": 7,
   "id": "9f5c37fc",
   "metadata": {},
   "outputs": [
    {
     "name": "stdout",
     "output_type": "stream",
     "text": [
      "0\n"
     ]
    }
   ],
   "source": [
    "\n",
    "\n",
    "emb_suffled, idx_suffled, filenavmes_sh,labels_shafle = unison_shuffled_copies(emb,idx, labels.fname,labels.label_id)\n",
    "\n",
    "label_dict = dict(zip(filenavmes_sh,labels_shafle))\n",
    "\n",
    "print(label_dict[\"0296a9e1-5bec-456f-9e9c-fc8849203056.tiff\"])\n"
   ]
  },
  {
   "cell_type": "code",
   "execution_count": 8,
   "id": "00a556b4",
   "metadata": {},
   "outputs": [
    {
     "name": "stdout",
     "output_type": "stream",
     "text": [
      "(21, 3)\n"
     ]
    }
   ],
   "source": [
    "\n",
    "# ranges and classes inds\n",
    "ranges = np.load('src/notebooks/class_idx.npy')\n",
    "print(ranges.shape)\n",
    "# classes names\n",
    "f  =  open(\"src/data/hackathon/label2id_final.json\")\n",
    "class_names = json.load(f)"
   ]
  },
  {
   "cell_type": "code",
   "execution_count": 9,
   "id": "19e48a24",
   "metadata": {},
   "outputs": [
    {
     "name": "stdout",
     "output_type": "stream",
     "text": [
      "0.5922509225092251\n",
      "0.6082949308755761\n",
      "0.5668202764976958\n",
      "0.5870967741935483\n",
      "0.5907834101382489\n",
      "0.6097785977859779\n",
      "0.6055299539170507\n",
      "0.5953917050691244\n",
      "0.552073732718894\n",
      "0.5658986175115207\n"
     ]
    }
   ],
   "source": [
    "start = 0\n",
    "d = 768\n",
    "k = 1\n",
    "for i in range(1,11):\n",
    "    counter = 0\n",
    "    stop = int((10848*i/10))\n",
    "    \n",
    "    indexes = np.zeros((10848),dtype=np.int32)\n",
    "    indexes[start:stop] = 1\n",
    "    query_emb = emb_suffled[np.where(indexes==1)]\n",
    "    query_idx = idx_suffled[np.where(indexes==1)]\n",
    "    query_len = len(query_idx)\n",
    "\n",
    "    #what left\n",
    "    #db = emb_suffled[np.where(indexes==0)[0]]\n",
    "    db_idx = idx_suffled[np.where(indexes==0)[0]]\n",
    "\n",
    "    # for j in idx_suffled[np.where(indexes==0)[0]]:\n",
    "    #     idx_for_db.append(np.argwhere(idx ==j))\n",
    "    db = np.copy(emb)\n",
    "    db[query_idx] = 9\n",
    "    index = faiss.IndexFlatL2(d)    # build the index\n",
    "    index.add(db)                   # add vectors to the index\n",
    "                                    # we want to see 1 nearest neighbors\n",
    "\n",
    "    _, I = index.search(query_emb, k)               # sanity check\n",
    "    files_names = list(labels.fname[query_idx])\n",
    "    match_labels = ind2label(I,files_names,ranges)\n",
    "    counter_class_T = 0\n",
    "    counter_class_F = 0\n",
    "    #class_id = 7\n",
    "    for key,value in match_labels.items():\n",
    "        \n",
    "        if label_dict[key] == value:# and label_dict[key]==class_id:\n",
    "            counter_class_T+=1\n",
    "        elif label_dict[key] != value:# and label_dict[key]==class_id:\n",
    "            counter_class_F+=1\n",
    "            #print(label_dict[key],key,value)\n",
    "    #print(counter_class_T/(counter_class_T+counter_class_F))\n",
    "        \n",
    "    \n",
    "\n",
    "    # labels.label[]\n",
    "\n",
    "    \n",
    "\n",
    "    start = stop\n",
    "    print(counter_class_T/(counter_class_F+counter_class_T))"
   ]
  },
  {
   "cell_type": "code",
   "execution_count": 93,
   "id": "497d3e74",
   "metadata": {},
   "outputs": [
    {
     "name": "stdout",
     "output_type": "stream",
     "text": [
      "True\n"
     ]
    }
   ],
   "source": [
    "d = 768\n",
    "index = faiss.IndexFlatL2(d)   # build the index\n",
    "index.add(emb)                  # add vectors to the index\n",
    "print(index.is_trained)\n",
    "\n",
    "k = 20                          # we want to see 4 nearest neighbors"
   ]
  }
 ],
 "metadata": {
  "kernelspec": {
   "display_name": "Python 3 (ipykernel)",
   "language": "python",
   "name": "python3"
  },
  "language_info": {
   "codemirror_mode": {
    "name": "ipython",
    "version": 3
   },
   "file_extension": ".py",
   "mimetype": "text/x-python",
   "name": "python",
   "nbconvert_exporter": "python",
   "pygments_lexer": "ipython3",
   "version": "3.10.0"
  }
 },
 "nbformat": 4,
 "nbformat_minor": 5
}
